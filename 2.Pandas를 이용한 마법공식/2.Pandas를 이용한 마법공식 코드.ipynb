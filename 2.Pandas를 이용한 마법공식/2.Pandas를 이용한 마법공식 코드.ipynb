{
 "cells": [
  {
   "cell_type": "markdown",
   "id": "50779dd5",
   "metadata": {},
   "source": [
    "## 2. Pandas를 이용한 마법공식\n",
    "### DataFrame 사용 예시"
   ]
  },
  {
   "cell_type": "code",
   "execution_count": 4,
   "id": "c4d122c2",
   "metadata": {},
   "outputs": [
    {
     "name": "stdout",
     "output_type": "stream",
     "text": [
      "    가격  PER   거래량\n",
      "a  100  1.1  1000\n",
      "b  140  0.8   800\n",
      "c  500  1.2   890\n",
      "d   70  1.7   700\n",
      "e   20  2.0  2000\n",
      "\n",
      "    가격  PER   거래량\n",
      "a  100  1.1  1000\n",
      "b  140  0.8   800\n",
      "c  500  1.2   890\n",
      "\n",
      "b    0.8\n",
      "a    1.1\n",
      "c    1.2\n",
      "d    1.7\n",
      "e    2.0\n",
      "Name: PER, dtype: float64\n",
      "\n",
      "    가격  PER   거래량\n",
      "b  140  0.8   800\n",
      "a  100  1.1  1000\n",
      "c  500  1.2   890\n",
      "d   70  1.7   700\n",
      "e   20  2.0  2000\n",
      "\n",
      "a    4.0\n",
      "b    2.0\n",
      "c    3.0\n",
      "d    1.0\n",
      "e    5.0\n",
      "Name: 거래량, dtype: float64\n"
     ]
    }
   ],
   "source": [
    "import pandas as pd\n",
    "\n",
    "df = pd.DataFrame({'가격' : [100,140,500,70,20],\n",
    "                  'PER' :[1.1, 0.8, 1.2, 1.7, 2.0],\n",
    "                  '거래량' : [1000, 800, 890, 700, 2000]},\n",
    "                 index=['a','b','c','d','e'])\n",
    "                 #index를 a,b,c,d,e순으로 설정\n",
    "\n",
    "print(df)\n",
    "print()\n",
    "print(df[df['가격']>=100]) #df['가격']의 value값이 100이상인 것만 print\n",
    "print()\n",
    "print(df['PER'].sort_values()) #df['PER']의 value값만 정렬\n",
    "print()\n",
    "print(df.sort_values(by='PER')) #'PER'을 기준으로 전체 데이터 정렬\n",
    "print()\n",
    "print(df['거래량'].rank()) #df['거래량']의 value값만 랭크 매기기\n",
    "#rank(ascending=False) : 내림차순으로 랭크 매기기"
   ]
  },
  {
   "cell_type": "markdown",
   "id": "351671cd",
   "metadata": {},
   "source": [
    "### 모듈 import"
   ]
  },
  {
   "cell_type": "code",
   "execution_count": 5,
   "id": "af2eb825",
   "metadata": {},
   "outputs": [],
   "source": [
    "import pandas as pd\n",
    "import xlrd"
   ]
  },
  {
   "cell_type": "markdown",
   "id": "05e23e45",
   "metadata": {},
   "source": [
    "### PER값 정렬"
   ]
  },
  {
   "cell_type": "code",
   "execution_count": 7,
   "id": "1af6d265",
   "metadata": {},
   "outputs": [],
   "source": [
    "file_path = 'C:\\\\Users\\\\a9681\\\\OneDrive\\\\문서\\\\카카오톡 받은 파일\\\\마법공식 데이터.xlsx'\n",
    "\n",
    "# PER sheet 불러오기\n",
    "# 0번째 column(회사명)을 index로 지정 \n",
    "per_data = pd.read_excel(file_path, sheet_name='PER', index_col = 0)\n",
    "\n",
    "# PER column의 값 중 0 이상인 것만 filtered_per에 저장\n",
    "filtered_per = per_data[per_data['PER'] > 0 ]\n",
    "\n",
    "# PER을 기준으로 전체 데이터 정렬\n",
    "sorted_per = filtered_per.sort_values(by='PER')\n",
    "\n",
    "# PER을 기준으로 순위 매기고 sorted_per의 PER랭킹 column에 저장\n",
    "sorted_per['PER랭킹'] = sorted_per['PER'].rank()\n"
   ]
  },
  {
   "cell_type": "markdown",
   "id": "c2876912",
   "metadata": {},
   "source": [
    "### ROA값 정렬"
   ]
  },
  {
   "cell_type": "code",
   "execution_count": 9,
   "id": "8a4058f4",
   "metadata": {},
   "outputs": [],
   "source": [
    "# ROA sheet 불러오기\n",
    "# 0번째 column(회사명)을 index로 지정\n",
    "roa_data = pd.read_excel(file_path, sheet_name='ROA', index_col = 0)\n",
    "\n",
    "# 값이 없은 roa 행 제외\n",
    "filtered_roa = roa_data.dropna() \n",
    "\n",
    "# column이름 바꾸기\n",
    "filtered_roa.columns = ['ROA']\n",
    "\n",
    "# ROA를 기준으로 내림차순으로 정렬\n",
    "sorted_roa = filtered_roa.sort_values(by='ROA', ascending=False)\n",
    "\n",
    "# 정렬된 ROA의 랭킹 내림차순으로 매기기\n",
    "sorted_roa['ROA랭킹'] = sorted_roa['ROA'].rank(ascending=False)"
   ]
  },
  {
   "cell_type": "markdown",
   "id": "2b8e450c",
   "metadata": {},
   "source": [
    "### PER+ROA 값 순위"
   ]
  },
  {
   "cell_type": "code",
   "execution_count": null,
   "id": "58c5ab72",
   "metadata": {},
   "outputs": [],
   "source": [
    "# 인덱스를 기준으로 정렬하기 위해 left_index와 right_index를 True로 설정\n",
    "# inner : 교집합\n",
    "# outer : 합집합\n",
    "total_df = pd.merge(sorted_per, sorted_roa, how='inner', left_index = True, right_index = True)\n",
    "\n",
    "# 순위 더하기\n",
    "total_df['종합 랭킹'] = total_df['PER랭킹'] + total_df['ROA랭킹']\n",
    "\n",
    "# 종합 랭킹을 기준으로 정렬 후 순위 매기기\n",
    "sorted_total = total_df.sort_values(by='종합 랭킹')\n",
    "sorted_total"
   ]
  }
 ],
 "metadata": {
  "kernelspec": {
   "display_name": "Python 3",
   "language": "python",
   "name": "python3"
  },
  "language_info": {
   "codemirror_mode": {
    "name": "ipython",
    "version": 3
   },
   "file_extension": ".py",
   "mimetype": "text/x-python",
   "name": "python",
   "nbconvert_exporter": "python",
   "pygments_lexer": "ipython3",
   "version": "3.8.8"
  }
 },
 "nbformat": 4,
 "nbformat_minor": 5
}
