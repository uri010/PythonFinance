{
 "cells": [
  {
   "cell_type": "markdown",
   "id": "34584eb3",
   "metadata": {},
   "source": [
    "## 3.웹 데이터를 이용하여 데이터 분석하기\n",
    "### requests와 bs4 사용 예시 코드"
   ]
  },
  {
   "cell_type": "code",
   "execution_count": 1,
   "id": "ed8b40ca",
   "metadata": {},
   "outputs": [
    {
     "name": "stdout",
     "output_type": "stream",
     "text": [
      "\n",
      "\n",
      "네이버\n",
      "\n",
      "\n"
     ]
    }
   ],
   "source": [
    "#requests 모듈은 브라우저의 서버로 요청을 보낼수 있게함\n",
    "#bs4 모듈은 requests로 가져온 HTML 코드의 태그에 접근할 수 있게 함\n",
    "import requests\n",
    "import bs4\n",
    "\n",
    "naver_url='https://www.naver.com/'\n",
    "naver_response=requests.get(naver_url) # 주소창에 url입력 후 서버로 요청받아서 응답 받는 과정을 구현\n",
    "# naver_response는 응답객체\n",
    "\n",
    "naver_bs=bs4.BeautifulSoup(naver_response.text,'lxml') # 뷰티풀스프형 데이터로 변환/ 옵션은 lxml (markdown언어로 속도가 빨라서 주로 사용)\n",
    "#뷰티풀스프는 html코드의 성질을 이용하여 이용자가 원하는 정보를 찾아줌\n",
    "\n",
    "#하지만 태그만으로 정보를 가져오기엔 태그도 많으며 같은 태그를 가지는 정보도 많음\n",
    "#그러므로 속성값과 같은 것이 필요 ex)class\n",
    "result=naver_bs.find('div',class_ = 'logo_area') # class값이 'logo_area'인 데이터만 가져옴 \n",
    "print(result.text)"
   ]
  },
  {
   "cell_type": "markdown",
   "id": "2ecd694a",
   "metadata": {},
   "source": [
    "## 구현하기"
   ]
  },
  {
   "cell_type": "markdown",
   "id": "6b8e87f9",
   "metadata": {},
   "source": [
    "### 모듈 import"
   ]
  },
  {
   "cell_type": "code",
   "execution_count": 2,
   "id": "39eced6a",
   "metadata": {},
   "outputs": [],
   "source": [
    "#requests 모듈은 브라우저의 서버로 요청을 보낼수 있게함\n",
    "#bs4 모듈은 requests로 가져온 HTML 코드의 태그에 접근할 수 있게 함\n",
    "import requests\n",
    "import bs4\n",
    "import pandas as pd"
   ]
  },
  {
   "cell_type": "markdown",
   "id": "f4bc6615",
   "metadata": {},
   "source": [
    "### 데이터 불러오기"
   ]
  },
  {
   "cell_type": "code",
   "execution_count": 5,
   "id": "1c0c36b7",
   "metadata": {},
   "outputs": [],
   "source": [
    "fs_url='https://comp.fnguide.com/SVO2/ASP/SVD_Finance.asp?pGB=1&gicode=A005380&cID=&MenuYn=Y&ReportGB=D&NewMenuID=103&stkGb=701' # 연간 테이블을 가져오기 위해 ReportGB를 D로 설정한 주소를 가져옴\n",
    "fs_page=requests.get(fs_url) # fs_url의 정보를 서버에게 요청해 응답받아 fs_page에 저장\n",
    "fs_tables=pd.read_html(fs_page.text) # html 코드에서 필요한 데이터만 찾아내어 데이터프레임으로 형성"
   ]
  },
  {
   "cell_type": "markdown",
   "id": "2fe6c9c6",
   "metadata": {},
   "source": [
    "### 포괄손익계산서"
   ]
  },
  {
   "cell_type": "code",
   "execution_count": 7,
   "id": "a625d1f4",
   "metadata": {},
   "outputs": [],
   "source": [
    "temp_df=fs_tables[0]\n",
    "temp_df=temp_df.set_index('IFRS(연결)') # 'IFRS(연결)'이 해당하는 열을 index로 설정\n",
    "temp_df=temp_df[['2018/12','2019/12','2020/12','2021/09']] # 해당 열만 가져옴\n",
    "temp_df=temp_df.loc[['매출액','영업이익','당기순이익']] # loc로 원하는 행을 추출"
   ]
  },
  {
   "cell_type": "markdown",
   "id": "f9d7137c",
   "metadata": {},
   "source": [
    "### 재무상태표"
   ]
  },
  {
   "cell_type": "code",
   "execution_count": 9,
   "id": "36ae724e",
   "metadata": {},
   "outputs": [],
   "source": [
    "temp_df2=fs_tables[2]\n",
    "temp_df2=temp_df2.set_index('IFRS(연결)')\n",
    "temp_df2=temp_df2.loc[['자산','부채','자본']]"
   ]
  },
  {
   "cell_type": "markdown",
   "id": "13945e40",
   "metadata": {},
   "source": [
    "### 현금흐름표"
   ]
  },
  {
   "cell_type": "code",
   "execution_count": 11,
   "id": "41b7e9cb",
   "metadata": {},
   "outputs": [],
   "source": [
    "temp_df3=fs_tables[4]\n",
    "temp_df3=temp_df3.set_index('IFRS(연결)')\n",
    "temp_df3=temp_df3.loc[['영업활동으로인한현금흐름']]"
   ]
  },
  {
   "cell_type": "markdown",
   "id": "c0f161b8",
   "metadata": {},
   "source": [
    "### 표 합치기"
   ]
  },
  {
   "cell_type": "code",
   "execution_count": 13,
   "id": "680c240e",
   "metadata": {},
   "outputs": [],
   "source": [
    "fs_df=pd.concat([temp_df,temp_df2,temp_df3]) # 표 붙이기 - 열이나 행이 동일해야 합쳐질 수 있음\n"
   ]
  },
  {
   "cell_type": "markdown",
   "id": "0b1a0846",
   "metadata": {},
   "source": [
    "### 함수화하기"
   ]
  },
  {
   "cell_type": "code",
   "execution_count": 16,
   "id": "11e0db3b",
   "metadata": {},
   "outputs": [],
   "source": [
    "def make_fs_dataframe(firm_code): # 기업코드에 따라 다른 데이터프레임 생성\n",
    "    fs_url='https://comp.fnguide.com/SVO2/ASP/SVD_Finance.asp?pGB=1&cID=&MenuYn=Y&ReportGB=D&NewMenuID=103&stkGb=701&gicode='+firm_code # 주소에서 &끼리 연결된 값은 순서가 바뀌어도 상관없음\n",
    "    fs_page=requests.get(fs_url)\n",
    "\n",
    "    fs_tables=pd.read_html(fs_page.text)\n",
    "\n",
    "    temp_df=fs_tables[0]\n",
    "    temp_df=temp_df.set_index(temp_df.columns[0]) # IFRS뿐만아니라 GAAP도 있기때문에 첫번째 column에 어떤 값이 와도 수용 가능\n",
    "    temp_df=temp_df[temp_df.columns[:4]] # 날짜가 바뀔수도 있음\n",
    "    temp_df=temp_df.loc[['매출액','영업이익','당기순이익']]\n",
    "\n",
    "    temp_df2=fs_tables[2]\n",
    "    temp_df2=temp_df2.set_index('IFRS(연결)')\n",
    "    temp_df2=temp_df2.loc[['자산','부채','자본']]\n",
    "\n",
    "\n",
    "    temp_df3=fs_tables[4]\n",
    "    temp_df3=temp_df3.set_index('IFRS(연결)')\n",
    "    temp_df3=temp_df3.loc[['영업활동으로인한현금흐름']]\n",
    "    fs_df=pd.concat([temp_df,temp_df2,temp_df3])\n",
    "\n",
    "    return fs_df"
   ]
  },
  {
   "cell_type": "markdown",
   "id": "142f808b",
   "metadata": {},
   "source": [
    "### 데이터 병합"
   ]
  },
  {
   "cell_type": "code",
   "execution_count": 18,
   "id": "ac1166a4",
   "metadata": {},
   "outputs": [],
   "source": [
    "# 데이터 병합에 대해 생각해보자\n",
    "# 회사코드가 단독으로 인덱스나 칼럼에 들어가는 것이 비교하기에 좋다.\n",
    "\n",
    "# 2018/12칼럼 하나만 길게 변경시키기\n",
    "\n",
    "code = 'A005930'\n",
    "fs_df=make_fs_dataframe(code)\n",
    "temp_df=pd.DataFrame({code:fs_df['2018/12']})\n",
    "temp_df=temp_df.T # 전치\n",
    "temp_df.columns=[['2018/12']*len(fs_df),temp_df.columns]\n",
    "\n",
    "# 전부 바꾸기\n",
    "code = 'A005930'\n",
    "fs_df=make_fs_dataframe(code)\n",
    "\n",
    "for num,col in enumerate(fs_df.columns): # num은 0부터 시작해서 +1씩 늘어남, col은 fs_df.columns의 0번째 data부터 n번째 data까지\n",
    "\n",
    "    temp_df=pd.DataFrame({code:fs_df[col]})\n",
    "    temp_df=temp_df.T\n",
    "    temp_df.columns=[['2018/12']*len(fs_df),temp_df.columns]\n",
    "    if num==0:\n",
    "        total_df=temp_df\n",
    "    else:\n",
    "        total_df=pd.merge(total_df,temp_df,how='outer',left_index=True,right_index=True) # outer : 합집합 / merge : 표 옆으로 붙이기"
   ]
  },
  {
   "cell_type": "markdown",
   "id": "c84bc6d2",
   "metadata": {},
   "source": [
    "### 함수화하기"
   ]
  },
  {
   "cell_type": "code",
   "execution_count": 21,
   "id": "d1bbb5b4",
   "metadata": {},
   "outputs": [],
   "source": [
    "def change_df(firm_code,dataframe):\n",
    "    for num,col in enumerate(fs_df.columns):\n",
    "\n",
    "        temp_df=pd.DataFrame({firm_code:dataframe[col]})\n",
    "        temp_df=temp_df.T\n",
    "        temp_df.columns=[[col]*len(dataframe),temp_df.columns]\n",
    "        if num==0:\n",
    "            total_df=temp_df\n",
    "        else:\n",
    "            total_df=pd.merge(total_df,temp_df,how='outer',left_index=True,right_index=True)\n",
    "    return total_df"
   ]
  },
  {
   "cell_type": "markdown",
   "id": "9cd2cbd0",
   "metadata": {},
   "source": [
    "### 만들어진 함수들을 이용해 데이터 정렬"
   ]
  },
  {
   "cell_type": "code",
   "execution_count": 23,
   "id": "4b99059f",
   "metadata": {},
   "outputs": [
    {
     "data": {
      "text/html": [
       "<div>\n",
       "<style scoped>\n",
       "    .dataframe tbody tr th:only-of-type {\n",
       "        vertical-align: middle;\n",
       "    }\n",
       "\n",
       "    .dataframe tbody tr th {\n",
       "        vertical-align: top;\n",
       "    }\n",
       "\n",
       "    .dataframe thead tr th {\n",
       "        text-align: left;\n",
       "    }\n",
       "</style>\n",
       "<table border=\"1\" class=\"dataframe\">\n",
       "  <thead>\n",
       "    <tr>\n",
       "      <th></th>\n",
       "      <th colspan=\"7\" halign=\"left\">2018/12</th>\n",
       "      <th colspan=\"3\" halign=\"left\">2019/12</th>\n",
       "      <th>...</th>\n",
       "      <th colspan=\"3\" halign=\"left\">2020/12</th>\n",
       "      <th colspan=\"7\" halign=\"left\">2021/09</th>\n",
       "    </tr>\n",
       "    <tr>\n",
       "      <th>IFRS(연결)</th>\n",
       "      <th>매출액</th>\n",
       "      <th>영업이익</th>\n",
       "      <th>당기순이익</th>\n",
       "      <th>자산</th>\n",
       "      <th>부채</th>\n",
       "      <th>자본</th>\n",
       "      <th>영업활동으로인한현금흐름</th>\n",
       "      <th>매출액</th>\n",
       "      <th>영업이익</th>\n",
       "      <th>당기순이익</th>\n",
       "      <th>...</th>\n",
       "      <th>부채</th>\n",
       "      <th>자본</th>\n",
       "      <th>영업활동으로인한현금흐름</th>\n",
       "      <th>매출액</th>\n",
       "      <th>영업이익</th>\n",
       "      <th>당기순이익</th>\n",
       "      <th>자산</th>\n",
       "      <th>부채</th>\n",
       "      <th>자본</th>\n",
       "      <th>영업활동으로인한현금흐름</th>\n",
       "    </tr>\n",
       "  </thead>\n",
       "  <tbody>\n",
       "    <tr>\n",
       "      <th>A005930</th>\n",
       "      <td>2437714.0</td>\n",
       "      <td>588867.0</td>\n",
       "      <td>443449.0</td>\n",
       "      <td>3393572.0</td>\n",
       "      <td>916041.0</td>\n",
       "      <td>2477532.0</td>\n",
       "      <td>670319.0</td>\n",
       "      <td>2304009.0</td>\n",
       "      <td>277685.0</td>\n",
       "      <td>217389.0</td>\n",
       "      <td>...</td>\n",
       "      <td>1022877.0</td>\n",
       "      <td>2759480.0</td>\n",
       "      <td>652870.0</td>\n",
       "      <td>2030393.0</td>\n",
       "      <td>377671.0</td>\n",
       "      <td>290695.0</td>\n",
       "      <td>4104207.0</td>\n",
       "      <td>1136546.0</td>\n",
       "      <td>2967661.0</td>\n",
       "      <td>444710.0</td>\n",
       "    </tr>\n",
       "    <tr>\n",
       "      <th>A005380</th>\n",
       "      <td>968126.0</td>\n",
       "      <td>24222.0</td>\n",
       "      <td>16450.0</td>\n",
       "      <td>1806558.0</td>\n",
       "      <td>1067597.0</td>\n",
       "      <td>738960.0</td>\n",
       "      <td>37643.0</td>\n",
       "      <td>1057464.0</td>\n",
       "      <td>36055.0</td>\n",
       "      <td>31856.0</td>\n",
       "      <td>...</td>\n",
       "      <td>1330032.0</td>\n",
       "      <td>763410.0</td>\n",
       "      <td>-4098.0</td>\n",
       "      <td>865842.0</td>\n",
       "      <td>51493.0</td>\n",
       "      <td>49917.0</td>\n",
       "      <td>2311100.0</td>\n",
       "      <td>1487985.0</td>\n",
       "      <td>823114.0</td>\n",
       "      <td>-33864.0</td>\n",
       "    </tr>\n",
       "    <tr>\n",
       "      <th>A035420</th>\n",
       "      <td>55869.0</td>\n",
       "      <td>9425.0</td>\n",
       "      <td>6279.0</td>\n",
       "      <td>98812.0</td>\n",
       "      <td>39321.0</td>\n",
       "      <td>59491.0</td>\n",
       "      <td>9735.0</td>\n",
       "      <td>43562.0</td>\n",
       "      <td>11550.0</td>\n",
       "      <td>3968.0</td>\n",
       "      <td>...</td>\n",
       "      <td>87591.0</td>\n",
       "      <td>82551.0</td>\n",
       "      <td>14472.0</td>\n",
       "      <td>48899.0</td>\n",
       "      <td>9742.0</td>\n",
       "      <td>161778.0</td>\n",
       "      <td>329609.0</td>\n",
       "      <td>87551.0</td>\n",
       "      <td>242058.0</td>\n",
       "      <td>8697.0</td>\n",
       "    </tr>\n",
       "  </tbody>\n",
       "</table>\n",
       "<p>3 rows × 28 columns</p>\n",
       "</div>"
      ],
      "text/plain": [
       "            2018/12                                                       \\\n",
       "IFRS(연결)        매출액      영업이익     당기순이익         자산         부채         자본   \n",
       "A005930   2437714.0  588867.0  443449.0  3393572.0   916041.0  2477532.0   \n",
       "A005380    968126.0   24222.0   16450.0  1806558.0  1067597.0   738960.0   \n",
       "A035420     55869.0    9425.0    6279.0    98812.0    39321.0    59491.0   \n",
       "\n",
       "                         2019/12                      ...    2020/12  \\\n",
       "IFRS(연결) 영업활동으로인한현금흐름        매출액      영업이익     당기순이익  ...         부채   \n",
       "A005930      670319.0  2304009.0  277685.0  217389.0  ...  1022877.0   \n",
       "A005380       37643.0  1057464.0   36055.0   31856.0  ...  1330032.0   \n",
       "A035420        9735.0    43562.0   11550.0    3968.0  ...    87591.0   \n",
       "\n",
       "                                    2021/09                                 \\\n",
       "IFRS(연결)         자본 영업활동으로인한현금흐름        매출액      영업이익     당기순이익         자산   \n",
       "A005930   2759480.0     652870.0  2030393.0  377671.0  290695.0  4104207.0   \n",
       "A005380    763410.0      -4098.0   865842.0   51493.0   49917.0  2311100.0   \n",
       "A035420     82551.0      14472.0    48899.0    9742.0  161778.0   329609.0   \n",
       "\n",
       "                                             \n",
       "IFRS(연결)         부채         자본 영업활동으로인한현금흐름  \n",
       "A005930   1136546.0  2967661.0     444710.0  \n",
       "A005380   1487985.0   823114.0     -33864.0  \n",
       "A035420     87551.0   242058.0       8697.0  \n",
       "\n",
       "[3 rows x 28 columns]"
      ]
     },
     "execution_count": 23,
     "metadata": {},
     "output_type": "execute_result"
    }
   ],
   "source": [
    "#지금까지의 함수를 이용하면 웹에서 데이터를 가져와 데이터프레임을 만들고\n",
    "#원하는 형태로 바꾸어 회사코드가 인덱스인 데이터프레임을 갖게된다.\n",
    "\n",
    "firmcode_list=['A005930','A005380','A035420']\n",
    "for num,code in enumerate(firmcode_list):\n",
    "    fs_df=make_fs_dataframe(code)\n",
    "    fs_df_changed=change_df(code,fs_df) # chage_df함수를 통해 해당 코드를 가진 기업의 데이터를 배열로 정렬\n",
    "    if num==0:\n",
    "        total_fs=fs_df_changed \n",
    "    else:\n",
    "        total_fs=pd.concat([total_fs,fs_df_changed]) # concat함수로 배열로 정렬한 데이터를 밑에 붙이기\n",
    "total_fs"
   ]
  },
  {
   "cell_type": "code",
   "execution_count": null,
   "id": "c72b48c6",
   "metadata": {},
   "outputs": [],
   "source": []
  }
 ],
 "metadata": {
  "kernelspec": {
   "display_name": "Python 3",
   "language": "python",
   "name": "python3"
  },
  "language_info": {
   "codemirror_mode": {
    "name": "ipython",
    "version": 3
   },
   "file_extension": ".py",
   "mimetype": "text/x-python",
   "name": "python",
   "nbconvert_exporter": "python",
   "pygments_lexer": "ipython3",
   "version": "3.8.8"
  }
 },
 "nbformat": 4,
 "nbformat_minor": 5
}
